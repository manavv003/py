{
 "cells": [
  {
   "cell_type": "code",
   "execution_count": 1,
   "id": "17fd7cef-81fd-4c9d-a32b-4c9ac7c78aa6",
   "metadata": {},
   "outputs": [
    {
     "name": "stdout",
     "output_type": "stream",
     "text": [
      "A\n",
      "B\n",
      "BA\n",
      "BAB\n",
      "BABBA\n"
     ]
    }
   ],
   "source": [
    "#02 Print a Fibonacci strings. e.g:('A', 'B', 'BA', 'BAB', 'BABBA') \n",
    "\n",
    "n = int(input(\"Enter the Fibonacci string sequence: \"))\n",
    "\n",
    "if n < 0:\n",
    "       print(\"Index must be a non-negative integer.\")\n",
    "else:\n",
    "     \n",
    "    a = \"A\"\n",
    "    b = \"B\"       \n",
    "    print(a)\n",
    "    print(b)\n",
    "              \n",
    "    for i in range(2, n + 1):\n",
    "                  \n",
    "        a, b = b, b + a\n",
    "        print(b)\n",
    "\n",
    "\n"
   ]
  },
  {
   "cell_type": "code",
   "execution_count": null,
   "id": "9ac3d5a2-a195-4e02-b0e3-658c2b4fa91a",
   "metadata": {},
   "outputs": [],
   "source": []
  }
 ],
 "metadata": {
  "kernelspec": {
   "display_name": "Python 3 (ipykernel)",
   "language": "python",
   "name": "python3"
  },
  "language_info": {
   "codemirror_mode": {
    "name": "ipython",
    "version": 3
   },
   "file_extension": ".py",
   "mimetype": "text/x-python",
   "name": "python",
   "nbconvert_exporter": "python",
   "pygments_lexer": "ipython3",
   "version": "3.12.5"
  }
 },
 "nbformat": 4,
 "nbformat_minor": 5
}
