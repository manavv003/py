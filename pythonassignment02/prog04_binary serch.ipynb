{
 "cells": [
  {
   "cell_type": "code",
   "execution_count": 15,
   "id": "3f997fef-9496-4fa5-a57d-8197e79bc352",
   "metadata": {},
   "outputs": [
    {
     "name": "stdout",
     "output_type": "stream",
     "text": [
      "Enter value to find(as per above array): 19\n"
     ]
    },
    {
     "name": "stdout",
     "output_type": "stream",
     "text": [
      "Value 19 found at index 9\n"
     ]
    }
   ],
   "source": [
    "#04 write a program for Binary search. \n",
    "\n",
    "def binarySearch(arr, targetVal):\n",
    "    left = 0\n",
    "    right = len(arr) - 1\n",
    "\n",
    "    while left <= right:\n",
    "        mid = (left + right) // 2\n",
    "\n",
    "        if arr[mid] == targetVal:\n",
    "            return mid\n",
    "        \n",
    "        if arr[mid] < targetVal:\n",
    "            left = mid + 1\n",
    "        else:\n",
    "            right = mid - 1\n",
    "\n",
    "    return -1\n",
    "\n",
    "myArray = [1, 3, 5, 7, 9, 11, 13, 15, 17, 19]\n",
    "myTarget = int(input(\"Enter value to find(as per above array):\"))\n",
    "my=myTarget\n",
    "\n",
    "result = binarySearch(myArray, my)\n",
    "\n",
    "if result != -1:\n",
    "    print(\"Value\",myTarget,\"found at index\", result)\n",
    "else:\n",
    "    print(\"Target not found in array.\")"
   ]
  },
  {
   "cell_type": "code",
   "execution_count": null,
   "id": "bc28fb32-dc47-44b2-a73c-30e2f4d5c508",
   "metadata": {},
   "outputs": [],
   "source": []
  }
 ],
 "metadata": {
  "kernelspec": {
   "display_name": "Python 3 (ipykernel)",
   "language": "python",
   "name": "python3"
  },
  "language_info": {
   "codemirror_mode": {
    "name": "ipython",
    "version": 3
   },
   "file_extension": ".py",
   "mimetype": "text/x-python",
   "name": "python",
   "nbconvert_exporter": "python",
   "pygments_lexer": "ipython3",
   "version": "3.12.4"
  }
 },
 "nbformat": 4,
 "nbformat_minor": 5
}
