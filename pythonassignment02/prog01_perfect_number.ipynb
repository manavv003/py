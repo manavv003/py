{
 "cells": [
  {
   "cell_type": "code",
   "execution_count": 3,
   "id": "eca52f44-c214-480b-97d6-a080418623c4",
   "metadata": {},
   "outputs": [
    {
     "name": "stdout",
     "output_type": "stream",
     "text": [
      "This is perfect number\n"
     ]
    }
   ],
   "source": [
    "#01 Find the Perfect numbers.(A number is perfect if the sum of its proper divisors equals itself. E.g: 28 = 1+2+4+7+14)\n",
    "\n",
    "num=int(input(\"Enter the number: \"))  \n",
    "sum=0  \n",
    "for i in range(1,num):  \n",
    "    if (num%i==0):  \n",
    "        sum+=i  \n",
    "if(sum==num):  \n",
    "    print(\"This is perfect number\")  \n",
    "else:  \n",
    "    print(\"This is not a perfect number\")  "
   ]
  },
  {
   "cell_type": "code",
   "execution_count": null,
   "id": "a553e120-abf5-40c9-9ce1-4689ebc5a1eb",
   "metadata": {},
   "outputs": [],
   "source": []
  }
 ],
 "metadata": {
  "kernelspec": {
   "display_name": "Python 3 (ipykernel)",
   "language": "python",
   "name": "python3"
  },
  "language_info": {
   "codemirror_mode": {
    "name": "ipython",
    "version": 3
   },
   "file_extension": ".py",
   "mimetype": "text/x-python",
   "name": "python",
   "nbconvert_exporter": "python",
   "pygments_lexer": "ipython3",
   "version": "3.12.5"
  }
 },
 "nbformat": 4,
 "nbformat_minor": 5
}
