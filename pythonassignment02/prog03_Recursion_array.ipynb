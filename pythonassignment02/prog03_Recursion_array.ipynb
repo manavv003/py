{
 "cells": [
  {
   "cell_type": "code",
   "execution_count": 1,
   "id": "ffa8f4d2-b430-4f12-b03d-1b2e14fb330c",
   "metadata": {},
   "outputs": [
    {
     "name": "stdout",
     "output_type": "stream",
     "text": [
      "1\n",
      "2\n",
      "3\n",
      "4\n",
      "5\n",
      "6\n",
      "7\n",
      "8\n",
      "9\n"
     ]
    }
   ],
   "source": [
    "#03 Print a list recursively. \n",
    "\n",
    "def print_list_recursion(l, index=0):\n",
    "\n",
    "    if index == len(l):\n",
    "        return 1\n",
    "    \n",
    "    print(l[index])\n",
    "    \n",
    "    print_list_recursion(l, index + 1)\n",
    "\n",
    "my_list = [1, 2, 3, 4, 5, 6, 7, 8, 9]\n",
    "print_list_recursion(my_list)\n"
   ]
  },
  {
   "cell_type": "code",
   "execution_count": null,
   "id": "fc4a0fba-9fb6-4035-bf74-3da7dfa9e344",
   "metadata": {},
   "outputs": [],
   "source": []
  }
 ],
 "metadata": {
  "kernelspec": {
   "display_name": "Python 3 (ipykernel)",
   "language": "python",
   "name": "python3"
  },
  "language_info": {
   "codemirror_mode": {
    "name": "ipython",
    "version": 3
   },
   "file_extension": ".py",
   "mimetype": "text/x-python",
   "name": "python",
   "nbconvert_exporter": "python",
   "pygments_lexer": "ipython3",
   "version": "3.12.5"
  }
 },
 "nbformat": 4,
 "nbformat_minor": 5
}
