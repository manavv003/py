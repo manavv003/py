{
 "cells": [
  {
   "cell_type": "code",
   "execution_count": 2,
   "id": "6c8effef-0178-4442-be0a-e195d1610ed3",
   "metadata": {},
   "outputs": [
    {
     "name": "stdout",
     "output_type": "stream",
     "text": [
      "Academic Record:\n",
      "Course Name          Credits    Points    \n",
      "----------------------------------------\n",
      "Math                 3          9         \n",
      "Science              4          12        \n",
      "CGPA: 10.71\n",
      "\n",
      "Updated Academic Record:\n",
      "Course Name          Credits    Points    \n",
      "----------------------------------------\n",
      "Science              4          12        \n",
      "Updated CGPA: 12.00\n"
     ]
    }
   ],
   "source": [
    "#05 Define an empty dictionary to store course records\n",
    "\n",
    "courses = {}\n",
    "\n",
    "def add_course(course_name, credits, points):\n",
    "\n",
    "    if credits <= 0 or points < 0:\n",
    "        raise ValueError(\"Credits must be positive and points cannot be negative.\")\n",
    "    courses[course_name] = {'credits': credits, 'points': points}\n",
    "\n",
    "def drop_course(course_name):\n",
    "\n",
    "    if course_name in courses:\n",
    "        del courses[course_name]\n",
    "    else:\n",
    "        print(f\"Course '{course_name}' not found.\")\n",
    "\n",
    "def print_record():\n",
    "   \n",
    "    if not courses:\n",
    "        print(\"No courses recorded.\")\n",
    "        return\n",
    "\n",
    "    print(f\"{'Course Name':<20} {'Credits':<10} {'Points':<10}\")\n",
    "    print(\"-\"*40)\n",
    "    for course_name, details in courses.items():\n",
    "        print(f\"{course_name:<20} {details['credits']:<10} {details['points']:<10}\")\n",
    "\n",
    "def calculate_cgpa():\n",
    "   \n",
    "    total_credits = sum(details['credits'] for details in courses.values())\n",
    "    weighted_points = sum(details['credits'] * details['points'] for details in courses.values())\n",
    "    \n",
    "    if total_credits == 0:\n",
    "        return 0.0\n",
    "    \n",
    "    return weighted_points / total_credits\n",
    "\n",
    "\n",
    "if __name__ == \"__main__\":\n",
    "    \n",
    "    add_course(\"Math\", 3, 9)\n",
    "    add_course(\"Science\", 4, 12)\n",
    "    \n",
    "    # Printing the record\n",
    "    print(\"Academic Record:\")\n",
    "    print_record()\n",
    "    \n",
    "    # Calculating CGPA\n",
    "    print(f\"CGPA: {calculate_cgpa():.2f}\")\n",
    "\n",
    "    # Dropping a course\n",
    "    drop_course(\"Math\")\n",
    "    \n",
    "    # Printing the updated record\n",
    "    print(\"\\nUpdated Academic Record:\")\n",
    "    print_record()\n",
    "    \n",
    "    # Recalculating CGPA\n",
    "    print(f\"Updated CGPA: {calculate_cgpa():.2f}\")\n"
   ]
  },
  {
   "cell_type": "code",
   "execution_count": null,
   "id": "e0823bcf-d155-43fe-b907-12ebd32d372e",
   "metadata": {},
   "outputs": [],
   "source": []
  }
 ],
 "metadata": {
  "kernelspec": {
   "display_name": "Python 3 (ipykernel)",
   "language": "python",
   "name": "python3"
  },
  "language_info": {
   "codemirror_mode": {
    "name": "ipython",
    "version": 3
   },
   "file_extension": ".py",
   "mimetype": "text/x-python",
   "name": "python",
   "nbconvert_exporter": "python",
   "pygments_lexer": "ipython3",
   "version": "3.12.4"
  }
 },
 "nbformat": 4,
 "nbformat_minor": 5
}
