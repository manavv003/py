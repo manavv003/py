{
 "cells": [
  {
   "cell_type": "code",
   "execution_count": 1,
   "id": "713d7209-c96d-4b55-9644-5f9000c2319c",
   "metadata": {},
   "outputs": [
    {
     "name": "stdout",
     "output_type": "stream",
     "text": [
      "queen is not a lucky card.\n"
     ]
    }
   ],
   "source": [
    "#07 To read a card as input and output if the card is lucky or not.\n",
    "\n",
    "values = ['2', '3', '4', '5', '6', '7', '8', '9', '10', 'Jack', 'Queen', 'King', 'Ace']\n",
    "\n",
    "# all suits  Hearts, Diamonds, Clubs, Spades\n",
    " \n",
    "card = input(\"Enter a card: \")\n",
    "\n",
    "if card == '7' or card=='5' or card=='3' or card=='Ace' or card=='King':\n",
    "    print(f\"{card} is a lucky card!\")\n",
    "else:\n",
    "    print(f\"{card} is not a lucky card.\") "
   ]
  },
  {
   "cell_type": "code",
   "execution_count": null,
   "id": "137b44bf-6ce7-4fdc-8a57-23c52502e476",
   "metadata": {},
   "outputs": [],
   "source": []
  }
 ],
 "metadata": {
  "kernelspec": {
   "display_name": "Python 3 (ipykernel)",
   "language": "python",
   "name": "python3"
  },
  "language_info": {
   "codemirror_mode": {
    "name": "ipython",
    "version": 3
   },
   "file_extension": ".py",
   "mimetype": "text/x-python",
   "name": "python",
   "nbconvert_exporter": "python",
   "pygments_lexer": "ipython3",
   "version": "3.12.5"
  }
 },
 "nbformat": 4,
 "nbformat_minor": 5
}
