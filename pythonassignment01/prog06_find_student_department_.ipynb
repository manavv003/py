{
 "cells": [
  {
   "cell_type": "code",
   "execution_count": 1,
   "id": "34f91e63",
   "metadata": {},
   "outputs": [
    {
     "name": "stdout",
     "output_type": "stream",
     "text": [
      "The Roll Number User Entered Is The Student Of CS Department: cs\n"
     ]
    }
   ],
   "source": [
    "#06 Find the Student From CS department where the roll number may be in capital or small-case letters\n",
    "\n",
    "stu = str(input(\"Enter The Roll No Of The Student: \"))\n",
    "\n",
    "if stu.startswith('CS') or stu.startswith('Cs') or stu.startswith('cs') or stu.startswith('cS'):\n",
    "    \n",
    "    print(\"The Roll Number User Entered Is The Student Of CS Department:\", stu)\n",
    "else:\n",
    "    print(\"The Roll Number User Entered Is The Student Is Not Of CS Department:\", stu)\n"
   ]
  },
  {
   "cell_type": "code",
   "execution_count": null,
   "id": "dc5253bc",
   "metadata": {},
   "outputs": [],
   "source": []
  }
 ],
 "metadata": {
  "kernelspec": {
   "display_name": "Python 3 (ipykernel)",
   "language": "python",
   "name": "python3"
  },
  "language_info": {
   "codemirror_mode": {
    "name": "ipython",
    "version": 3
   },
   "file_extension": ".py",
   "mimetype": "text/x-python",
   "name": "python",
   "nbconvert_exporter": "python",
   "pygments_lexer": "ipython3",
   "version": "3.12.5"
  }
 },
 "nbformat": 4,
 "nbformat_minor": 5
}
