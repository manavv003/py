{
 "cells": [
  {
   "cell_type": "code",
   "execution_count": 4,
   "id": "a2e01f71-3732-4ebb-ae6e-a1d546791579",
   "metadata": {},
   "outputs": [
    {
     "name": "stdout",
     "output_type": "stream",
     "text": [
      "March\n"
     ]
    }
   ],
   "source": [
    "#12 Find birthdays in a month using dictionary.Birthdays in DD/MM/YY format\n",
    "\n",
    "months={ \"01\": \"January\",\n",
    "    \"02\": \"February\",\n",
    "    \"03\": \"March\",\n",
    "    \"04\": \"April\",\n",
    "    \"05\": \"May\",\n",
    "    \"06\": \"June\",\n",
    "    \"07\": \"July\",\n",
    "    \"08\": \"August\",\n",
    "    \"09\": \"September\",\n",
    "    \"10\": \"October\",\n",
    "    \"11\": \"November\",\n",
    "    \"12\": \"December\"\n",
    "}\n",
    "dob=input(\"Enter DOB(DD/MM/YYYY) :- \")\n",
    "if len(dob)  == 10:\n",
    "    if dob[3:5] in months.keys():\n",
    "        print(months[dob[3:5]])\n",
    "else:\n",
    "    print(\"enter in valid formate\")"
   ]
  },
  {
   "cell_type": "code",
   "execution_count": null,
   "id": "8bb18a8a-5a68-49f5-b697-fd105179b408",
   "metadata": {},
   "outputs": [],
   "source": []
  }
 ],
 "metadata": {
  "kernelspec": {
   "display_name": "Python 3 (ipykernel)",
   "language": "python",
   "name": "python3"
  },
  "language_info": {
   "codemirror_mode": {
    "name": "ipython",
    "version": 3
   },
   "file_extension": ".py",
   "mimetype": "text/x-python",
   "name": "python",
   "nbconvert_exporter": "python",
   "pygments_lexer": "ipython3",
   "version": "3.12.5"
  }
 },
 "nbformat": 4,
 "nbformat_minor": 5
}
