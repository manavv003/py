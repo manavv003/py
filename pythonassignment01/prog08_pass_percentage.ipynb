{
 "cells": [
  {
   "cell_type": "code",
   "execution_count": 1,
   "id": "e534775a-8d2e-4012-8511-6abbcc9f2b8f",
   "metadata": {},
   "outputs": [
    {
     "name": "stdout",
     "output_type": "stream",
     "text": [
      "Pass percentage of a class: 60.00%\n"
     ]
    }
   ],
   "source": [
    "\n",
    "#08 Find out pass-percentage of a class. A teacher is entering the marks of students. A student passes a course if the marks are at least 40 (out of 100). The teacher wants to know the percentage of students passed. \n",
    "\n",
    "passed_students = 0\n",
    "\n",
    "num_students = 5\n",
    "\n",
    "marks = []\n",
    "\n",
    "for i in range(num_students):\n",
    "    mark = int(input(f\"Enter mark of student {i+1}: \"))\n",
    "    marks.append(mark)\n",
    "    if mark >= 40:\n",
    "        passed_students += 1\n",
    "\n",
    "pass_percentage = (passed_students / num_students) * 100\n",
    "\n",
    "print(f\"Pass percentage of a class: {pass_percentage:.2f}%\")\n"
   ]
  },
  {
   "cell_type": "code",
   "execution_count": null,
   "id": "c8f59b70-5920-4fc4-8b7b-2fcda18c71f5",
   "metadata": {},
   "outputs": [],
   "source": []
  }
 ],
 "metadata": {
  "kernelspec": {
   "display_name": "Python 3 (ipykernel)",
   "language": "python",
   "name": "python3"
  },
  "language_info": {
   "codemirror_mode": {
    "name": "ipython",
    "version": 3
   },
   "file_extension": ".py",
   "mimetype": "text/x-python",
   "name": "python",
   "nbconvert_exporter": "python",
   "pygments_lexer": "ipython3",
   "version": "3.12.5"
  }
 },
 "nbformat": 4,
 "nbformat_minor": 5
}
