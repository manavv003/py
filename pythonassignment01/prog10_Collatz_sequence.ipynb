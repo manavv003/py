{
 "cells": [
  {
   "cell_type": "code",
   "execution_count": 1,
   "id": "9955894f-d832-4ba7-87ab-0413b69faa4d",
   "metadata": {},
   "outputs": [],
   "source": [
    "#10 Collatz sequence\n",
    "n = int(input(\"Input a positive integer (n): \"))\n",
    "\n",
    "print(n, end=\" \")\n",
    "\n",
    "while n != 1:\n",
    "    if n % 2 == 0:\n",
    "        n = int(n / 2)\n",
    "    else:\n",
    "        n = 3 * n + 1\n",
    "    print(n, end=\" \")"
   ]
  },
  {
   "cell_type": "code",
   "execution_count": null,
   "id": "d3ff5f89-544f-4d5f-9271-4de68cd0f9e7",
   "metadata": {},
   "outputs": [],
   "source": []
  }
 ],
 "metadata": {
  "kernelspec": {
   "display_name": "Python 3 (ipykernel)",
   "language": "python",
   "name": "python3"
  },
  "language_info": {
   "codemirror_mode": {
    "name": "ipython",
    "version": 3
   },
   "file_extension": ".py",
   "mimetype": "text/x-python",
   "name": "python",
   "nbconvert_exporter": "python",
   "pygments_lexer": "ipython3",
   "version": "3.12.5"
  }
 },
 "nbformat": 4,
 "nbformat_minor": 5
}
